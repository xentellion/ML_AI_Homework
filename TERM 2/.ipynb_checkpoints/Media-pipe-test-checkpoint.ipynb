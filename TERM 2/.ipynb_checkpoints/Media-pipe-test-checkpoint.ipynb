{
 "cells": [
  {
   "cell_type": "code",
   "execution_count": 1,
   "id": "919fbe4c",
   "metadata": {},
   "outputs": [],
   "source": [
    "import mediapipe as mp\n",
    "import cv2\n",
    "import numpy as np"
   ]
  },
  {
   "cell_type": "code",
   "execution_count": 2,
   "id": "4f3b8b37",
   "metadata": {},
   "outputs": [],
   "source": [
    "mp_face_detection = mp.solutions.face_detection\n",
    "mp_hands = mp.solutions.hands\n",
    "mp_drawing = mp.solutions.drawing_utils\n",
    "mp_drawing_styles = mp.solutions.drawing_styles\n",
    "cap = cv2.VideoCapture(0)"
   ]
  },
  {
   "cell_type": "code",
   "execution_count": 3,
   "id": "58e2e45a",
   "metadata": {},
   "outputs": [],
   "source": [
    "face_detection = mp_face_detection.FaceDetection(model_selection=0, min_detection_confidence=0.5)\n",
    "hands = mp_hands.Hands(model_complexity=0, min_detection_confidence=0.5, min_tracking_confidence=0.5)\n",
    "\n",
    "while True:\n",
    "  success, image = cap.read()\n",
    "  if not success:\n",
    "    print(\"Ignoring empty camera frame.\")\n",
    "    continue\n",
    "\n",
    "  image.flags.writeable = False\n",
    "  image = cv2.cvtColor(image, cv2.COLOR_BGR2RGB)\n",
    "  results_1 = face_detection.process(image)\n",
    "  results_2 = hands.process(image)\n",
    "\n",
    "  image.flags.writeable = True\n",
    "  image = cv2.cvtColor(image, cv2.COLOR_RGB2BGR)\n",
    "    \n",
    "  face_cords = []\n",
    "  if results_1.detections:\n",
    "    for detection in results_1.detections:\n",
    "      mp_drawing.draw_detection(image, detection)\n",
    "      box = detection.location_data.relative_bounding_box\n",
    "      face_cords.append((box.xmin, box.ymin, box.width, box.height))\n",
    "  \n",
    "  hand_cords = []\n",
    "  if results_2.multi_hand_landmarks:\n",
    "      for hand_landmarks in results_2.multi_hand_landmarks:\n",
    "        mp_drawing.draw_landmarks(\n",
    "            image,\n",
    "            hand_landmarks,\n",
    "            mp_hands.HAND_CONNECTIONS,\n",
    "            mp_drawing_styles.get_default_hand_landmarks_style(),\n",
    "            mp_drawing_styles.get_default_hand_connections_style())\n",
    "        \n",
    "      for idx, landmark in enumerate(hand_landmarks.landmark):\n",
    "        hand_cords.append((landmark.x, landmark.y))\n",
    "\n",
    "  image = cv2.flip(image, 1)\n",
    "    \n",
    "  # если есть лицо и руки программа сравнивает точки и проверяет, если они наодятся в рамке лица\n",
    "  face_block = False\n",
    "  if results_1.detections and results_2.multi_hand_landmarks:\n",
    "      for i in hand_cords:\n",
    "        if face_block:\n",
    "            break\n",
    "        for j in face_cords:\n",
    "            if i[0] > j[0] and i[0] < j[0] + j[2]:\n",
    "                if i[1] > j[1] and i[1] < j[1] + j[3]:\n",
    "                    face_block = True\n",
    "                    break\n",
    "                \n",
    "  if face_block:\n",
    "      cv2.putText(image,'Hands down',(100,50), fontFace=cv2.FONT_HERSHEY_SIMPLEX, fontScale=1, color=(255,255,255))\n",
    "\n",
    "  cv2.imshow('MediaPipe Face-hand Detection', image)\n",
    "  if cv2.waitKey(5) & 0xFF == 27:\n",
    "    break\n",
    "cv2.destroyAllWindows()"
   ]
  }
 ],
 "metadata": {
  "kernelspec": {
   "display_name": "Python 3 (ipykernel)",
   "language": "python",
   "name": "python3"
  },
  "language_info": {
   "codemirror_mode": {
    "name": "ipython",
    "version": 3
   },
   "file_extension": ".py",
   "mimetype": "text/x-python",
   "name": "python",
   "nbconvert_exporter": "python",
   "pygments_lexer": "ipython3",
   "version": "3.9.7"
  }
 },
 "nbformat": 4,
 "nbformat_minor": 5
}
