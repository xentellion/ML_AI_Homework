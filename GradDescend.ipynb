{
 "cells": [
  {
   "cell_type": "code",
   "execution_count": 1,
   "id": "95d1bb59",
   "metadata": {},
   "outputs": [],
   "source": [
    "from sympy import *\n",
    "import scipy\n",
    "import numpy as np\n",
    "import math"
   ]
  },
  {
   "cell_type": "code",
   "execution_count": 2,
   "id": "68129277",
   "metadata": {},
   "outputs": [],
   "source": [
    "init_printing(use_unicode=True, wrap_line=False)"
   ]
  },
  {
   "cell_type": "code",
   "execution_count": 3,
   "id": "52bd5134",
   "metadata": {},
   "outputs": [],
   "source": [
    "x, y, z = symbols(\"x y z\")"
   ]
  },
  {
   "cell_type": "code",
   "execution_count": 7,
   "id": "6c8da856",
   "metadata": {},
   "outputs": [],
   "source": [
    "def GradDescend(f, x0:np.ndarray, lr:float = 0.1, eps:float = 1e-06) -> np.ndarray:\n",
    "    #Считаем производные прямо здесь\n",
    "    _dx = [diff(f,x), diff(f,y)]\n",
    "    while True:\n",
    "        dx = np.array([float(_dx[0].subs(x, x0[0])), float(_dx[1].subs(y, x0[1]))])\n",
    "        x0 = x0 - lr * dx\n",
    "        if np.linalg.norm(dx) < eps:\n",
    "            break\n",
    "    return x0"
   ]
  },
  {
   "cell_type": "code",
   "execution_count": 8,
   "id": "7619940b",
   "metadata": {},
   "outputs": [],
   "source": [
    "function = x**2 + y**2"
   ]
  },
  {
   "cell_type": "code",
   "execution_count": 9,
   "id": "5a3d1b2d",
   "metadata": {},
   "outputs": [
    {
     "data": {
      "text/plain": [
       "array([7.77067557e-08, 3.88533778e-07])"
      ]
     },
     "execution_count": 9,
     "metadata": {},
     "output_type": "execute_result"
    }
   ],
   "source": [
    "GradDescend(function, np.array([100,500]))"
   ]
  },
  {
   "cell_type": "code",
   "execution_count": null,
   "id": "6f0ae2bf",
   "metadata": {},
   "outputs": [],
   "source": []
  },
  {
   "cell_type": "code",
   "execution_count": null,
   "id": "9f235406",
   "metadata": {},
   "outputs": [],
   "source": []
  }
 ],
 "metadata": {
  "kernelspec": {
   "display_name": "Python 3 (ipykernel)",
   "language": "python",
   "name": "python3"
  },
  "language_info": {
   "codemirror_mode": {
    "name": "ipython",
    "version": 3
   },
   "file_extension": ".py",
   "mimetype": "text/x-python",
   "name": "python",
   "nbconvert_exporter": "python",
   "pygments_lexer": "ipython3",
   "version": "3.9.7"
  }
 },
 "nbformat": 4,
 "nbformat_minor": 5
}
